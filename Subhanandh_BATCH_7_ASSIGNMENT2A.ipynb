{
  "nbformat": 4,
  "nbformat_minor": 0,
  "metadata": {
    "colab": {
      "name": "mnist.ipynb",
      "version": "0.3.2",
      "views": {},
      "default_view": {},
      "provenance": []
    },
    "kernelspec": {
      "name": "python3",
      "display_name": "Python 3"
    },
    "accelerator": "GPU"
  },
  "cells": [
    {
      "metadata": {
        "id": "P0-vlkUwqsTq",
        "colab_type": "code",
        "colab": {
          "autoexec": {
            "startup": false,
            "wait_interval": 0
          },
          "base_uri": "https://localhost:8080/",
          "height": 119
        },
        "outputId": "4798383e-4904-41be-ffdc-10b7a157c536",
        "executionInfo": {
          "status": "ok",
          "timestamp": 1527583320323,
          "user_tz": -330,
          "elapsed": 5565,
          "user": {
            "displayName": "Subhanandh Tamilarasu",
            "photoUrl": "//lh3.googleusercontent.com/-BggtE_xase8/AAAAAAAAAAI/AAAAAAAAESw/wOEBjSdnkIw/s50-c-k-no/photo.jpg",
            "userId": "102661954893494761457"
          }
        }
      },
      "cell_type": "code",
      "source": [
        "!pip install keras"
      ],
      "execution_count": 1,
      "outputs": [
        {
          "output_type": "stream",
          "text": [
            "Requirement already satisfied: keras in /usr/local/lib/python3.6/dist-packages (2.1.6)\n",
            "Requirement already satisfied: numpy>=1.9.1 in /usr/local/lib/python3.6/dist-packages (from keras) (1.14.3)\n",
            "Requirement already satisfied: six>=1.9.0 in /usr/local/lib/python3.6/dist-packages (from keras) (1.11.0)\n",
            "Requirement already satisfied: pyyaml in /usr/local/lib/python3.6/dist-packages (from keras) (3.12)\n",
            "Requirement already satisfied: h5py in /usr/local/lib/python3.6/dist-packages (from keras) (2.7.1)\n",
            "Requirement already satisfied: scipy>=0.14 in /usr/local/lib/python3.6/dist-packages (from keras) (0.19.1)\n"
          ],
          "name": "stdout"
        }
      ]
    },
    {
      "metadata": {
        "id": "A79g9WHdq-PE",
        "colab_type": "code",
        "colab": {
          "autoexec": {
            "startup": false,
            "wait_interval": 0
          },
          "base_uri": "https://localhost:8080/",
          "height": 34
        },
        "outputId": "4db51abf-196b-43d7-afa7-fa64102713d5",
        "executionInfo": {
          "status": "ok",
          "timestamp": 1527583326515,
          "user_tz": -330,
          "elapsed": 2840,
          "user": {
            "displayName": "Subhanandh Tamilarasu",
            "photoUrl": "//lh3.googleusercontent.com/-BggtE_xase8/AAAAAAAAAAI/AAAAAAAAESw/wOEBjSdnkIw/s50-c-k-no/photo.jpg",
            "userId": "102661954893494761457"
          }
        }
      },
      "cell_type": "code",
      "source": [
        "import keras\n",
        "import numpy as np"
      ],
      "execution_count": 2,
      "outputs": [
        {
          "output_type": "stream",
          "text": [
            "Using TensorFlow backend.\n"
          ],
          "name": "stderr"
        }
      ]
    },
    {
      "metadata": {
        "id": "n8Os-jCGrL4R",
        "colab_type": "code",
        "colab": {
          "autoexec": {
            "startup": false,
            "wait_interval": 0
          }
        }
      },
      "cell_type": "code",
      "source": [
        "from keras.models import Sequential\n",
        "from keras.layers import Dense, Dropout, Activation, Flatten, Add, BatchNormalization, DepthwiseConv2D, Input, Dropout, SeparableConv2D\n",
        "from keras.layers import Conv2D, MaxPool2D\n",
        "from keras.utils import np_utils\n",
        "\n",
        "from keras.datasets import mnist"
      ],
      "execution_count": 0,
      "outputs": []
    },
    {
      "metadata": {
        "id": "iQlovQVftixy",
        "colab_type": "code",
        "colab": {
          "autoexec": {
            "startup": false,
            "wait_interval": 0
          }
        }
      },
      "cell_type": "code",
      "source": [
        "from matplotlib import pyplot as plt\n",
        "%matplotlib inline"
      ],
      "execution_count": 0,
      "outputs": []
    },
    {
      "metadata": {
        "id": "9T0wVrN0sI5n",
        "colab_type": "code",
        "colab": {
          "autoexec": {
            "startup": false,
            "wait_interval": 0
          },
          "base_uri": "https://localhost:8080/",
          "height": 51
        },
        "outputId": "1255cd78-b79f-4988-ba9d-36aef1d45cc4",
        "executionInfo": {
          "status": "ok",
          "timestamp": 1527583337703,
          "user_tz": -330,
          "elapsed": 7140,
          "user": {
            "displayName": "Subhanandh Tamilarasu",
            "photoUrl": "//lh3.googleusercontent.com/-BggtE_xase8/AAAAAAAAAAI/AAAAAAAAESw/wOEBjSdnkIw/s50-c-k-no/photo.jpg",
            "userId": "102661954893494761457"
          }
        }
      },
      "cell_type": "code",
      "source": [
        "(X_train, y_train), (X_test, y_test) = mnist.load_data()"
      ],
      "execution_count": 5,
      "outputs": [
        {
          "output_type": "stream",
          "text": [
            "Downloading data from https://s3.amazonaws.com/img-datasets/mnist.npz\n",
            "11493376/11490434 [==============================] - 5s 0us/step\n"
          ],
          "name": "stdout"
        }
      ]
    },
    {
      "metadata": {
        "id": "cnsoFT2OBVQn",
        "colab_type": "code",
        "colab": {
          "autoexec": {
            "startup": false,
            "wait_interval": 0
          },
          "base_uri": "https://localhost:8080/",
          "height": 68
        },
        "outputId": "648d0b53-1c18-4c6e-b0da-33e3131263d6",
        "executionInfo": {
          "status": "ok",
          "timestamp": 1527583338944,
          "user_tz": -330,
          "elapsed": 1210,
          "user": {
            "displayName": "Subhanandh Tamilarasu",
            "photoUrl": "//lh3.googleusercontent.com/-BggtE_xase8/AAAAAAAAAAI/AAAAAAAAESw/wOEBjSdnkIw/s50-c-k-no/photo.jpg",
            "userId": "102661954893494761457"
          }
        }
      },
      "cell_type": "code",
      "source": [
        "print (X_train.shape)\n",
        "print (X_train[667][20])\n"
      ],
      "execution_count": 6,
      "outputs": [
        {
          "output_type": "stream",
          "text": [
            "(60000, 28, 28)\n",
            "[  0   0   0   0   0 128 255 255 255 255 255 255 255 255 191 128   0   0\n",
            "   0   0   0   0   0   0   0   0   0   0]\n"
          ],
          "name": "stdout"
        }
      ]
    },
    {
      "metadata": {
        "id": "L_CvCzTttFv9",
        "colab_type": "code",
        "colab": {
          "autoexec": {
            "startup": false,
            "wait_interval": 0
          },
          "base_uri": "https://localhost:8080/",
          "height": 299
        },
        "outputId": "804a97c9-b422-4cc6-d1a2-e8e76485372b",
        "executionInfo": {
          "status": "ok",
          "timestamp": 1527583340322,
          "user_tz": -330,
          "elapsed": 1242,
          "user": {
            "displayName": "Subhanandh Tamilarasu",
            "photoUrl": "//lh3.googleusercontent.com/-BggtE_xase8/AAAAAAAAAAI/AAAAAAAAESw/wOEBjSdnkIw/s50-c-k-no/photo.jpg",
            "userId": "102661954893494761457"
          }
        }
      },
      "cell_type": "code",
      "source": [
        "print (X_train.shape)\n",
        "plt.imshow(X_train[5])"
      ],
      "execution_count": 7,
      "outputs": [
        {
          "output_type": "stream",
          "text": [
            "(60000, 28, 28)\n"
          ],
          "name": "stdout"
        },
        {
          "output_type": "execute_result",
          "data": {
            "text/plain": [
              "<matplotlib.image.AxesImage at 0x7f0ddf90f588>"
            ]
          },
          "metadata": {
            "tags": []
          },
          "execution_count": 7
        },
        {
          "output_type": "display_data",
          "data": {
            "image/png": "[encoded data removed]",
            "text/plain": [
              "<matplotlib.figure.Figure at 0x7f0ddfdaab70>"
            ]
          },
          "metadata": {
            "tags": []
          }
        }
      ]
    },
    {
      "metadata": {
        "id": "gWLR_-kftnBI",
        "colab_type": "code",
        "colab": {
          "autoexec": {
            "startup": false,
            "wait_interval": 0
          },
          "base_uri": "https://localhost:8080/",
          "height": 510
        },
        "outputId": "8e55d865-3280-4e59-a377-c5b3dc6e1886",
        "executionInfo": {
          "status": "ok",
          "timestamp": 1527583342415,
          "user_tz": -330,
          "elapsed": 1971,
          "user": {
            "displayName": "Subhanandh Tamilarasu",
            "photoUrl": "//lh3.googleusercontent.com/-BggtE_xase8/AAAAAAAAAAI/AAAAAAAAESw/wOEBjSdnkIw/s50-c-k-no/photo.jpg",
            "userId": "102661954893494761457"
          }
        }
      },
      "cell_type": "code",
      "source": [
        "X_train = X_train.reshape(X_train.shape[0], 28, 28, 1)\n",
        "X_test = X_test.reshape(X_test.shape[0], 28, 28, 1)\n",
        "\n",
        "print (X_train.shape)\n",
        "print (X_train[667][20])"
      ],
      "execution_count": 8,
      "outputs": [
        {
          "output_type": "stream",
          "text": [
            "(60000, 28, 28, 1)\n",
            "[[  0]\n",
            " [  0]\n",
            " [  0]\n",
            " [  0]\n",
            " [  0]\n",
            " [128]\n",
            " [255]\n",
            " [255]\n",
            " [255]\n",
            " [255]\n",
            " [255]\n",
            " [255]\n",
            " [255]\n",
            " [255]\n",
            " [191]\n",
            " [128]\n",
            " [  0]\n",
            " [  0]\n",
            " [  0]\n",
            " [  0]\n",
            " [  0]\n",
            " [  0]\n",
            " [  0]\n",
            " [  0]\n",
            " [  0]\n",
            " [  0]\n",
            " [  0]\n",
            " [  0]]\n"
          ],
          "name": "stdout"
        }
      ]
    },
    {
      "metadata": {
        "id": "bjNop3vFuX8V",
        "colab_type": "code",
        "colab": {
          "autoexec": {
            "startup": false,
            "wait_interval": 0
          }
        }
      },
      "cell_type": "code",
      "source": [
        "X_train = X_train.astype('float32')\n",
        "X_test = X_test.astype('float32')\n",
        "X_train /= 255\n",
        "X_test /= 255"
      ],
      "execution_count": 0,
      "outputs": []
    },
    {
      "metadata": {
        "id": "fjNV0Q_WCZfB",
        "colab_type": "code",
        "colab": {
          "autoexec": {
            "startup": false,
            "wait_interval": 0
          },
          "base_uri": "https://localhost:8080/",
          "height": 493
        },
        "outputId": "e6120c0f-4ce2-40c3-cdce-6aa9d541b01d",
        "executionInfo": {
          "status": "ok",
          "timestamp": 1527583352532,
          "user_tz": -330,
          "elapsed": 7370,
          "user": {
            "displayName": "Subhanandh Tamilarasu",
            "photoUrl": "//lh3.googleusercontent.com/-BggtE_xase8/AAAAAAAAAAI/AAAAAAAAESw/wOEBjSdnkIw/s50-c-k-no/photo.jpg",
            "userId": "102661954893494761457"
          }
        }
      },
      "cell_type": "code",
      "source": [
        "print (X_train[667][20])"
      ],
      "execution_count": 10,
      "outputs": [
        {
          "output_type": "stream",
          "text": [
            "[[0.       ]\n",
            " [0.       ]\n",
            " [0.       ]\n",
            " [0.       ]\n",
            " [0.       ]\n",
            " [0.5019608]\n",
            " [1.       ]\n",
            " [1.       ]\n",
            " [1.       ]\n",
            " [1.       ]\n",
            " [1.       ]\n",
            " [1.       ]\n",
            " [1.       ]\n",
            " [1.       ]\n",
            " [0.7490196]\n",
            " [0.5019608]\n",
            " [0.       ]\n",
            " [0.       ]\n",
            " [0.       ]\n",
            " [0.       ]\n",
            " [0.       ]\n",
            " [0.       ]\n",
            " [0.       ]\n",
            " [0.       ]\n",
            " [0.       ]\n",
            " [0.       ]\n",
            " [0.       ]\n",
            " [0.       ]]\n"
          ],
          "name": "stdout"
        }
      ]
    },
    {
      "metadata": {
        "id": "nEtRMNAfv6i_",
        "colab_type": "code",
        "colab": {
          "autoexec": {
            "startup": false,
            "wait_interval": 0
          },
          "base_uri": "https://localhost:8080/",
          "height": 68
        },
        "outputId": "26610bf7-f74f-44b8-da67-ed69b5de67fa",
        "executionInfo": {
          "status": "ok",
          "timestamp": 1527583354789,
          "user_tz": -330,
          "elapsed": 2173,
          "user": {
            "displayName": "Subhanandh Tamilarasu",
            "photoUrl": "//lh3.googleusercontent.com/-BggtE_xase8/AAAAAAAAAAI/AAAAAAAAESw/wOEBjSdnkIw/s50-c-k-no/photo.jpg",
            "userId": "102661954893494761457"
          }
        }
      },
      "cell_type": "code",
      "source": [
        "print (y_train[30])\n",
        "# Convert 1-dimensional class arrays to 10-dimensional class matrices\n",
        "Y_train = np_utils.to_categorical(y_train, 10)\n",
        "Y_test = np_utils.to_categorical(y_test, 10)\n",
        "print (Y_train.shape)\n",
        "print (Y_train[30])"
      ],
      "execution_count": 11,
      "outputs": [
        {
          "output_type": "stream",
          "text": [
            "3\n",
            "(60000, 10)\n",
            "[0. 0. 0. 1. 0. 0. 0. 0. 0. 0.]\n"
          ],
          "name": "stdout"
        }
      ]
    },
    {
      "metadata": {
        "id": "Wb6MJKItIWj-",
        "colab_type": "code",
        "colab": {
          "autoexec": {
            "startup": false,
            "wait_interval": 0
          },
          "base_uri": "https://localhost:8080/",
          "height": 578
        },
        "outputId": "2d2b0c91-d98f-49dc-f53f-c00734ed53df",
        "executionInfo": {
          "status": "ok",
          "timestamp": 1527584617464,
          "user_tz": -330,
          "elapsed": 1993,
          "user": {
            "displayName": "Subhanandh Tamilarasu",
            "photoUrl": "//lh3.googleusercontent.com/-BggtE_xase8/AAAAAAAAAAI/AAAAAAAAESw/wOEBjSdnkIw/s50-c-k-no/photo.jpg",
            "userId": "102661954893494761457"
          }
        }
      },
      "cell_type": "code",
      "source": [
        "import random\n",
        "random.seed(3)\n",
        "\n",
        "model = Sequential()\n",
        "model.add(Conv2D(16, (3, 3), activation='relu', input_shape = (28, 28, 1) ))\n",
        "model.add(Conv2D(32, (3, 3), activation= 'relu'))\n",
        "model.add(Dropout(0.4))\n",
        "model.add(MaxPool2D((2, 2)))\n",
        "\n",
        "model.add(Conv2D(16, (3, 3), activation= 'relu'))\n",
        "model.add(Conv2D(32, (3, 3), activation= 'relu'))\n",
        "model.add(Conv2D(32, (3, 3), activation= 'relu'))\n",
        "model.add(Dropout(0.6))\n",
        "model.add(MaxPool2D((2, 2)))\n",
        "\n",
        "model.add(Conv2D(10, (1, 1), activation='relu'))\n",
        "model.add(Conv2D(10, (2, 2)))\n",
        "model.add(Flatten())\n",
        "model.add(Dense(units=10, activation='softmax')) #model.add(Activation('softmax')) #Dense(10, activation='softmax'))\n",
        "model.summary()"
      ],
      "execution_count": 28,
      "outputs": [
        {
          "output_type": "stream",
          "text": [
            "_________________________________________________________________\n",
            "Layer (type)                 Output Shape              Param #   \n",
            "=================================================================\n",
            "conv2d_36 (Conv2D)           (None, 26, 26, 16)        160       \n",
            "_________________________________________________________________\n",
            "conv2d_37 (Conv2D)           (None, 24, 24, 32)        4640      \n",
            "_________________________________________________________________\n",
            "dropout_15 (Dropout)         (None, 24, 24, 32)        0         \n",
            "_________________________________________________________________\n",
            "max_pooling2d_15 (MaxPooling (None, 12, 12, 32)        0         \n",
            "_________________________________________________________________\n",
            "conv2d_38 (Conv2D)           (None, 10, 10, 16)        4624      \n",
            "_________________________________________________________________\n",
            "conv2d_39 (Conv2D)           (None, 8, 8, 32)          4640      \n",
            "_________________________________________________________________\n",
            "conv2d_40 (Conv2D)           (None, 6, 6, 32)          9248      \n",
            "_________________________________________________________________\n",
            "dropout_16 (Dropout)         (None, 6, 6, 32)          0         \n",
            "_________________________________________________________________\n",
            "max_pooling2d_16 (MaxPooling (None, 3, 3, 32)          0         \n",
            "_________________________________________________________________\n",
            "conv2d_41 (Conv2D)           (None, 3, 3, 10)          330       \n",
            "_________________________________________________________________\n",
            "conv2d_42 (Conv2D)           (None, 2, 2, 10)          410       \n",
            "_________________________________________________________________\n",
            "flatten_5 (Flatten)          (None, 40)                0         \n",
            "_________________________________________________________________\n",
            "dense_5 (Dense)              (None, 10)                410       \n",
            "=================================================================\n",
            "Total params: 24,462\n",
            "Trainable params: 24,462\n",
            "Non-trainable params: 0\n",
            "_________________________________________________________________\n"
          ],
          "name": "stdout"
        }
      ]
    },
    {
      "metadata": {
        "id": "j0yH8hgU0awV",
        "colab_type": "code",
        "colab": {
          "autoexec": {
            "startup": false,
            "wait_interval": 0
          }
        }
      },
      "cell_type": "code",
      "source": [
        "model.compile(loss='categorical_crossentropy',\n",
        "             optimizer='adam',\n",
        "             metrics=['accuracy'])"
      ],
      "execution_count": 0,
      "outputs": []
    },
    {
      "metadata": {
        "id": "OvhMtxRX1A05",
        "colab_type": "code",
        "colab": {
          "autoexec": {
            "startup": false,
            "wait_interval": 0
          },
          "base_uri": "https://localhost:8080/",
          "height": 394
        },
        "outputId": "1686eb2f-8d5a-423a-924c-028859ab6dcd",
        "executionInfo": {
          "status": "ok",
          "timestamp": 1527584853467,
          "user_tz": -330,
          "elapsed": 229821,
          "user": {
            "displayName": "Subhanandh Tamilarasu",
            "photoUrl": "//lh3.googleusercontent.com/-BggtE_xase8/AAAAAAAAAAI/AAAAAAAAESw/wOEBjSdnkIw/s50-c-k-no/photo.jpg",
            "userId": "102661954893494761457"
          }
        }
      },
      "cell_type": "code",
      "source": [
        "model.fit(x=X_train, y=Y_train, batch_size = 128, epochs = 10)\n",
        "#model.fit(X_train, Y_train, batch_size=32, nb_epoch=10, verbose=1)"
      ],
      "execution_count": 30,
      "outputs": [
        {
          "output_type": "stream",
          "text": [
            "Epoch 1/10\n",
            "60000/60000 [==============================] - 24s 402us/step - loss: 0.4863 - acc: 0.8407\n",
            "Epoch 2/10\n",
            "60000/60000 [==============================] - 23s 379us/step - loss: 0.1272 - acc: 0.9609\n",
            "Epoch 3/10\n",
            "  896/60000 [..............................] - ETA: 27s - loss: 0.1088 - acc: 0.9621"
          ],
          "name": "stdout"
        },
        {
          "output_type": "stream",
          "text": [
            "60000/60000 [==============================] - 23s 376us/step - loss: 0.0895 - acc: 0.9729\n",
            "Epoch 4/10\n",
            "60000/60000 [==============================] - 23s 376us/step - loss: 0.0715 - acc: 0.9774\n",
            "Epoch 5/10\n",
            " 5632/60000 [=>............................] - ETA: 20s - loss: 0.0741 - acc: 0.9771"
          ],
          "name": "stdout"
        },
        {
          "output_type": "stream",
          "text": [
            "60000/60000 [==============================] - 23s 382us/step - loss: 0.0620 - acc: 0.9810\n",
            "Epoch 6/10\n",
            "60000/60000 [==============================] - 22s 372us/step - loss: 0.0543 - acc: 0.9836\n",
            "Epoch 7/10\n",
            " 7040/60000 [==>...........................] - ETA: 19s - loss: 0.0452 - acc: 0.9845"
          ],
          "name": "stdout"
        },
        {
          "output_type": "stream",
          "text": [
            "60000/60000 [==============================] - 22s 373us/step - loss: 0.0468 - acc: 0.9855\n",
            "Epoch 8/10\n",
            "60000/60000 [==============================] - 23s 380us/step - loss: 0.0440 - acc: 0.9860\n",
            "Epoch 9/10\n",
            " 8064/60000 [===>..........................] - ETA: 18s - loss: 0.0399 - acc: 0.9865"
          ],
          "name": "stdout"
        },
        {
          "output_type": "stream",
          "text": [
            "60000/60000 [==============================] - 23s 375us/step - loss: 0.0402 - acc: 0.9873\n",
            "Epoch 10/10\n",
            "60000/60000 [==============================] - 23s 375us/step - loss: 0.0382 - acc: 0.9881\n"
          ],
          "name": "stdout"
        },
        {
          "output_type": "execute_result",
          "data": {
            "text/plain": [
              "<keras.callbacks.History at 0x7f0dbdd73518>"
            ]
          },
          "metadata": {
            "tags": []
          },
          "execution_count": 30
        }
      ]
    },
    {
      "metadata": {
        "id": "36u_TllqH68w",
        "colab_type": "code",
        "colab": {
          "autoexec": {
            "startup": false,
            "wait_interval": 0
          },
          "base_uri": "https://localhost:8080/",
          "height": 51
        },
        "outputId": "82096c53-e45a-458d-85ff-5d25a3fae05f",
        "executionInfo": {
          "status": "ok",
          "timestamp": 1527584862601,
          "user_tz": -330,
          "elapsed": 4896,
          "user": {
            "displayName": "Subhanandh Tamilarasu",
            "photoUrl": "//lh3.googleusercontent.com/-BggtE_xase8/AAAAAAAAAAI/AAAAAAAAESw/wOEBjSdnkIw/s50-c-k-no/photo.jpg",
            "userId": "102661954893494761457"
          }
        }
      },
      "cell_type": "code",
      "source": [
        "score = model.evaluate(X_test, Y_test)\n",
        "print (score)"
      ],
      "execution_count": 31,
      "outputs": [
        {
          "output_type": "stream",
          "text": [
            "10000/10000 [==============================] - 3s 338us/step\n",
            "[0.07728573571443557, 0.9918]\n"
          ],
          "name": "stdout"
        }
      ]
    },
    {
      "metadata": {
        "id": "tAyumv2NIU3M",
        "colab_type": "code",
        "colab": {
          "autoexec": {
            "startup": false,
            "wait_interval": 0
          },
          "base_uri": "https://localhost:8080/",
          "height": 51
        },
        "outputId": "ae1e36c0-1774-4bde-f458-7dfc5169b045",
        "executionInfo": {
          "status": "ok",
          "timestamp": 1525884133550,
          "user_tz": -330,
          "elapsed": 1590,
          "user": {
            "displayName": "Subhanandh Tamilarasu",
            "photoUrl": "//lh3.googleusercontent.com/-BggtE_xase8/AAAAAAAAAAI/AAAAAAAAESw/wOEBjSdnkIw/s50-c-k-no/photo.jpg",
            "userId": "102661954893494761457"
          }
        }
      },
      "cell_type": "code",
      "source": [
        "# manual test\n",
        "y_pred = model.predict(X_test)\n",
        "print(np.argmax(y_pred[:9], axis = 1))\n",
        "print(y_test[:9])"
      ],
      "execution_count": 30,
      "outputs": [
        {
          "output_type": "stream",
          "text": [
            "[7 2 1 0 4 1 4 9 5]\n",
            "[7 2 1 0 4 1 4 9 5]\n"
          ],
          "name": "stdout"
        }
      ]
    }
  ]
}